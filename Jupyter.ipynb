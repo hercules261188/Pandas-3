{
 "cells": [
  {
   "cell_type": "code",
   "execution_count": 68,
   "metadata": {},
   "outputs": [
    {
     "name": "stdout",
     "output_type": "stream",
     "text": [
      "897 ms ± 3.59 ms per loop (mean ± std. dev. of 7 runs, 1 loop each)\n"
     ]
    }
   ],
   "source": [
    "%%timeit\n",
    "import pandas as pd\n",
    "dt = pd.read_csv('C:/Users/fedor/milk_promo_sales.csv')\n",
    "df = dt.sort_values(by=['store_id','period_id'])\n",
    "df['n_promo'] = df.period_id.diff().ne(1).cumsum()\n",
    "gr_by_promo = df.groupby('n_promo')\n",
    "df['duration'] = gr_by_promo.cumcount()\n",
    "df['sale_total'] = gr_by_promo['sales_volume'].transform('sum')\n",
    "df['length_promo'] = gr_by_promo['store_id'].transform('count')"
   ]
  },
  {
   "cell_type": "code",
   "execution_count": 65,
   "metadata": {},
   "outputs": [
    {
     "data": {
      "text/html": [
       "<div>\n",
       "<style scoped>\n",
       "    .dataframe tbody tr th:only-of-type {\n",
       "        vertical-align: middle;\n",
       "    }\n",
       "\n",
       "    .dataframe tbody tr th {\n",
       "        vertical-align: top;\n",
       "    }\n",
       "\n",
       "    .dataframe thead th {\n",
       "        text-align: right;\n",
       "    }\n",
       "</style>\n",
       "<table border=\"1\" class=\"dataframe\">\n",
       "  <thead>\n",
       "    <tr style=\"text-align: right;\">\n",
       "      <th></th>\n",
       "      <th>store_id</th>\n",
       "      <th>period_id</th>\n",
       "      <th>sales_volume</th>\n",
       "      <th>n_promo</th>\n",
       "      <th>duration</th>\n",
       "      <th>sale_total</th>\n",
       "      <th>length_promo</th>\n",
       "    </tr>\n",
       "  </thead>\n",
       "  <tbody>\n",
       "    <tr>\n",
       "      <th>724224</th>\n",
       "      <td>4168621</td>\n",
       "      <td>191</td>\n",
       "      <td>2.2500</td>\n",
       "      <td>1</td>\n",
       "      <td>0</td>\n",
       "      <td>86.3500</td>\n",
       "      <td>16</td>\n",
       "    </tr>\n",
       "    <tr>\n",
       "      <th>216520</th>\n",
       "      <td>4168621</td>\n",
       "      <td>192</td>\n",
       "      <td>6.3500</td>\n",
       "      <td>1</td>\n",
       "      <td>1</td>\n",
       "      <td>86.3500</td>\n",
       "      <td>16</td>\n",
       "    </tr>\n",
       "    <tr>\n",
       "      <th>175105</th>\n",
       "      <td>4168621</td>\n",
       "      <td>193</td>\n",
       "      <td>7.0500</td>\n",
       "      <td>1</td>\n",
       "      <td>2</td>\n",
       "      <td>86.3500</td>\n",
       "      <td>16</td>\n",
       "    </tr>\n",
       "    <tr>\n",
       "      <th>699084</th>\n",
       "      <td>4168621</td>\n",
       "      <td>194</td>\n",
       "      <td>2.5000</td>\n",
       "      <td>1</td>\n",
       "      <td>3</td>\n",
       "      <td>86.3500</td>\n",
       "      <td>16</td>\n",
       "    </tr>\n",
       "    <tr>\n",
       "      <th>780957</th>\n",
       "      <td>4168621</td>\n",
       "      <td>195</td>\n",
       "      <td>1.7000</td>\n",
       "      <td>1</td>\n",
       "      <td>4</td>\n",
       "      <td>86.3500</td>\n",
       "      <td>16</td>\n",
       "    </tr>\n",
       "    <tr>\n",
       "      <th>...</th>\n",
       "      <td>...</td>\n",
       "      <td>...</td>\n",
       "      <td>...</td>\n",
       "      <td>...</td>\n",
       "      <td>...</td>\n",
       "      <td>...</td>\n",
       "      <td>...</td>\n",
       "    </tr>\n",
       "    <tr>\n",
       "      <th>512944</th>\n",
       "      <td>38126926</td>\n",
       "      <td>241</td>\n",
       "      <td>3.9500</td>\n",
       "      <td>140969</td>\n",
       "      <td>0</td>\n",
       "      <td>3.9500</td>\n",
       "      <td>1</td>\n",
       "    </tr>\n",
       "    <tr>\n",
       "      <th>832513</th>\n",
       "      <td>38126935</td>\n",
       "      <td>240</td>\n",
       "      <td>0.9500</td>\n",
       "      <td>140970</td>\n",
       "      <td>0</td>\n",
       "      <td>0.9500</td>\n",
       "      <td>1</td>\n",
       "    </tr>\n",
       "    <tr>\n",
       "      <th>417892</th>\n",
       "      <td>38126935</td>\n",
       "      <td>242</td>\n",
       "      <td>4.6500</td>\n",
       "      <td>140971</td>\n",
       "      <td>0</td>\n",
       "      <td>4.6500</td>\n",
       "      <td>1</td>\n",
       "    </tr>\n",
       "    <tr>\n",
       "      <th>354468</th>\n",
       "      <td>38126938</td>\n",
       "      <td>241</td>\n",
       "      <td>5.1000</td>\n",
       "      <td>140972</td>\n",
       "      <td>0</td>\n",
       "      <td>8.3765</td>\n",
       "      <td>2</td>\n",
       "    </tr>\n",
       "    <tr>\n",
       "      <th>604276</th>\n",
       "      <td>38126938</td>\n",
       "      <td>242</td>\n",
       "      <td>3.2765</td>\n",
       "      <td>140972</td>\n",
       "      <td>1</td>\n",
       "      <td>8.3765</td>\n",
       "      <td>2</td>\n",
       "    </tr>\n",
       "  </tbody>\n",
       "</table>\n",
       "<p>846990 rows × 7 columns</p>\n",
       "</div>"
      ],
      "text/plain": [
       "        store_id  period_id  sales_volume  n_promo  duration  sale_total  \\\n",
       "724224   4168621        191        2.2500        1         0     86.3500   \n",
       "216520   4168621        192        6.3500        1         1     86.3500   \n",
       "175105   4168621        193        7.0500        1         2     86.3500   \n",
       "699084   4168621        194        2.5000        1         3     86.3500   \n",
       "780957   4168621        195        1.7000        1         4     86.3500   \n",
       "...          ...        ...           ...      ...       ...         ...   \n",
       "512944  38126926        241        3.9500   140969         0      3.9500   \n",
       "832513  38126935        240        0.9500   140970         0      0.9500   \n",
       "417892  38126935        242        4.6500   140971         0      4.6500   \n",
       "354468  38126938        241        5.1000   140972         0      8.3765   \n",
       "604276  38126938        242        3.2765   140972         1      8.3765   \n",
       "\n",
       "        length_promo  \n",
       "724224            16  \n",
       "216520            16  \n",
       "175105            16  \n",
       "699084            16  \n",
       "780957            16  \n",
       "...              ...  \n",
       "512944             1  \n",
       "832513             1  \n",
       "417892             1  \n",
       "354468             2  \n",
       "604276             2  \n",
       "\n",
       "[846990 rows x 7 columns]"
      ]
     },
     "execution_count": 65,
     "metadata": {},
     "output_type": "execute_result"
    }
   ],
   "source": [
    "df"
   ]
  },
  {
   "cell_type": "code",
   "execution_count": 61,
   "metadata": {},
   "outputs": [
    {
     "data": {
      "text/plain": [
       "3.0"
      ]
     },
     "execution_count": 61,
     "metadata": {},
     "output_type": "execute_result"
    }
   ],
   "source": [
    "#median length of a promo_period\n",
    "df.groupby('n_promo')['duration'].count().median()"
   ]
  },
  {
   "cell_type": "code",
   "execution_count": 67,
   "metadata": {},
   "outputs": [
    {
     "data": {
      "text/plain": [
       "store_id\n",
       "4168621      5.0\n",
       "4168624     52.0\n",
       "4168636      2.5\n",
       "4168639      7.0\n",
       "4168645     25.0\n",
       "            ... \n",
       "38126899     1.0\n",
       "38126908     2.0\n",
       "38126926     1.0\n",
       "38126935     1.0\n",
       "38126938     2.0\n",
       "Name: length_promo, Length: 23318, dtype: float64"
      ]
     },
     "execution_count": 67,
     "metadata": {},
     "output_type": "execute_result"
    }
   ],
   "source": [
    "#median for each store\n",
    "slice_df = df[(df['duration']==0)]\n",
    "med_promo_store = slice_df.groupby('store_id')['length_promo'].median()\n",
    "med_promo_store"
   ]
  },
  {
   "cell_type": "code",
   "execution_count": null,
   "metadata": {},
   "outputs": [],
   "source": []
  }
 ],
 "metadata": {
  "kernelspec": {
   "display_name": "Python 3",
   "language": "python",
   "name": "python3"
  },
  "language_info": {
   "codemirror_mode": {
    "name": "ipython",
    "version": 3
   },
   "file_extension": ".py",
   "mimetype": "text/x-python",
   "name": "python",
   "nbconvert_exporter": "python",
   "pygments_lexer": "ipython3",
   "version": "3.9.0"
  }
 },
 "nbformat": 4,
 "nbformat_minor": 4
}
